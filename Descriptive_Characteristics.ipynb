{
 "cells": [
  {
   "cell_type": "code",
   "execution_count": 29,
   "metadata": {},
   "outputs": [],
   "source": [
    "import pandas as pd\n",
    "\n",
    "\n",
    "df = pd.read_csv('bad-drivers.csv')\n",
    "\n",
    "fatal_billion = df['Number of drivers involved in fatal collisions per billion miles']\n",
    "fatal_speed = df['Percentage Of Drivers Involved In Fatal Collisions Who Were Speeding']\n",
    "fatal_alcoholimpared = df['Percentage Of Drivers Involved In Fatal Collisions Who Were Alcohol-Impaired']\n",
    "fatal_notdistracted = df['Percentage Of Drivers Involved In Fatal Collisions Who Were Not Distracted']\n",
    "fatal_notprevaccidents = df['Percentage Of Drivers Involved In Fatal Collisions Who Had Not Been Involved In Any Previous Accidents']\n",
    "\n"
   ]
  },
  {
   "cell_type": "code",
   "execution_count": 33,
   "metadata": {},
   "outputs": [
    {
     "name": "stdout",
     "output_type": "stream",
     "text": [
      "Mean\n",
      "15.79019607843137\n",
      "\n",
      "Mode\n",
      "0    12.8\n",
      "1    13.6\n",
      "2    14.1\n",
      "3    19.4\n",
      "4    21.4\n",
      "5    23.9\n",
      "dtype: float64\n",
      "\n",
      "Spread\n",
      "16.990901960784313\n",
      "\n"
     ]
    }
   ],
   "source": [
    "# Number of drivers involved in fatal collisions per billion miles\n",
    "\n",
    "print('Mean')\n",
    "print(fatal_billion.mean())\n",
    "print(\"\")\n",
    "\n",
    "print('Mode')\n",
    "print(fatal_billion.mode())\n",
    "print(\"\")\n",
    "\n",
    "print('Spread')\n",
    "print(fatal_billion.var())\n",
    "print(\"\")\n",
    "\n"
   ]
  },
  {
   "cell_type": "code",
   "execution_count": 34,
   "metadata": {},
   "outputs": [
    {
     "name": "stdout",
     "output_type": "stream",
     "text": [
      "Mean\n",
      "31.725490196078432\n",
      "\n",
      "Mode\n",
      "0    19\n",
      "1    34\n",
      "2    35\n",
      "dtype: int64\n",
      "\n",
      "Spread\n",
      "92.80313725490194\n",
      "\n"
     ]
    }
   ],
   "source": [
    "# Percentage Of Drivers Involved In Fatal Collisions Who Were Speeding\n",
    "\n",
    "print('Mean')\n",
    "print(fatal_speed.mean())\n",
    "print(\"\")\n",
    "\n",
    "print('Mode')\n",
    "print(fatal_speed.mode())\n",
    "print(\"\")\n",
    "\n",
    "print('Spread')\n",
    "print(fatal_speed.var())\n",
    "print(\"\")"
   ]
  },
  {
   "cell_type": "code",
   "execution_count": 35,
   "metadata": {},
   "outputs": [
    {
     "name": "stdout",
     "output_type": "stream",
     "text": [
      "Mean\n",
      "30.686274509803923\n",
      "\n",
      "Mode\n",
      "0    29\n",
      "dtype: int64\n",
      "\n",
      "Spread\n",
      "26.33960784313726\n",
      "\n"
     ]
    }
   ],
   "source": [
    "# Percentage Of Drivers Involved In Fatal Collisions Who Were Alcohol-Impaired\n",
    "\n",
    "print('Mean')\n",
    "print(fatal_alcoholimpared.mean())\n",
    "print(\"\")\n",
    "\n",
    "print('Mode')\n",
    "print(fatal_alcoholimpared.mode())\n",
    "print(\"\")\n",
    "\n",
    "print('Spread')\n",
    "print(fatal_alcoholimpared.var())\n",
    "print(\"\")"
   ]
  },
  {
   "cell_type": "code",
   "execution_count": 36,
   "metadata": {},
   "outputs": [
    {
     "name": "stdout",
     "output_type": "stream",
     "text": [
      "Mean\n",
      "85.92156862745098\n",
      "\n",
      "Mode\n",
      "0    87\n",
      "dtype: int64\n",
      "\n",
      "Spread\n",
      "229.79372549019612\n",
      "\n"
     ]
    }
   ],
   "source": [
    "# Percentage Of Drivers Involved In Fatal Collisions Who Were Not Distracted\n",
    "\n",
    "print('Mean')\n",
    "print(fatal_notdistracted.mean())\n",
    "print(\"\")\n",
    "\n",
    "print('Mode')\n",
    "print(fatal_notdistracted.mode())\n",
    "print(\"\")\n",
    "\n",
    "print('Spread')\n",
    "print(fatal_notdistracted.var())\n",
    "print(\"\")"
   ]
  },
  {
   "cell_type": "code",
   "execution_count": 37,
   "metadata": {},
   "outputs": [
    {
     "name": "stdout",
     "output_type": "stream",
     "text": [
      "Mean\n",
      "88.72549019607843\n",
      "\n",
      "Mode\n",
      "0    87\n",
      "1    95\n",
      "dtype: int64\n",
      "\n",
      "Spread\n",
      "48.44313725490194\n",
      "\n"
     ]
    }
   ],
   "source": [
    "# Percentage Of Drivers Involved In Fatal Collisions Who Had Not Been Involved In Any Previous Accidents\n",
    "\n",
    "print('Mean')\n",
    "print(fatal_notprevaccidents.mean())\n",
    "print(\"\")\n",
    "\n",
    "print('Mode')\n",
    "print(fatal_notprevaccidents.mode())\n",
    "print(\"\")\n",
    "\n",
    "print('Spread')\n",
    "print(fatal_notprevaccidents.var())\n",
    "print(\"\")\n"
   ]
  },
  {
   "cell_type": "code",
   "execution_count": null,
   "metadata": {},
   "outputs": [],
   "source": []
  }
 ],
 "metadata": {
  "kernelspec": {
   "display_name": "Python 3",
   "language": "python",
   "name": "python3"
  },
  "language_info": {
   "codemirror_mode": {
    "name": "ipython",
    "version": 3
   },
   "file_extension": ".py",
   "mimetype": "text/x-python",
   "name": "python",
   "nbconvert_exporter": "python",
   "pygments_lexer": "ipython3",
   "version": "3.6.5"
  }
 },
 "nbformat": 4,
 "nbformat_minor": 2
}
