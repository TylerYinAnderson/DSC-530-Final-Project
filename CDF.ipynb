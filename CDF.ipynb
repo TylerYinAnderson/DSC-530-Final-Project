{
 "cells": [
  {
   "cell_type": "code",
   "execution_count": 1,
   "metadata": {},
   "outputs": [],
   "source": [
    "import matplotlib.pyplot as plt\n",
    "import pandas as pd\n",
    "import numpy as np\n",
    "import thinkstats2\n",
    "import thinkplot\n",
    "\n",
    "df = pd.read_csv('bad-drivers.csv')\n",
    "\n",
    "fatal_billion = df['Number of drivers involved in fatal collisions per billion miles']\n",
    "fatal_speed = df['Percentage Of Drivers Involved In Fatal Collisions Who Were Speeding']\n",
    "fatal_alcoholimpared = df['Percentage Of Drivers Involved In Fatal Collisions Who Were Alcohol-Impaired']\n",
    "fatal_notdistracted = df['Percentage Of Drivers Involved In Fatal Collisions Who Were Not Distracted']\n",
    "fatal_notprevaccidents = df['Percentage Of Drivers Involved In Fatal Collisions Who Had Not Been Involved In Any Previous Accidents']\n"
   ]
  },
  {
   "cell_type": "code",
   "execution_count": 4,
   "metadata": {},
   "outputs": [
    {
     "data": {
      "image/png": "[encoded data removed]",
      "text/plain": [
       "<Figure size 432x288 with 1 Axes>"
      ]
     },
     "metadata": {},
     "output_type": "display_data"
    },
    {
     "data": {
      "text/plain": [
       "<Figure size 576x432 with 0 Axes>"
      ]
     },
     "metadata": {},
     "output_type": "display_data"
    }
   ],
   "source": [
    "first_cdf = thinkstats2.Cdf(fatal_billion, label='first')\n",
    "thinkplot.PrePlot(2)\n",
    "thinkplot.Cdfs([first_cdf])\n",
    "thinkplot.Show(xlabel='fatal collisions per billion miles', ylabel='CDF')"
   ]
  },
  {
   "cell_type": "code",
   "execution_count": 5,
   "metadata": {},
   "outputs": [],
   "source": [
    "# In this figure We can see there ae fewer accidents per billion miles with a lower CDF and a discrepency above the mean. "
   ]
  },
  {
   "cell_type": "code",
   "execution_count": null,
   "metadata": {},
   "outputs": [],
   "source": []
  }
 ],
 "metadata": {
  "kernelspec": {
   "display_name": "Python 3",
   "language": "python",
   "name": "python3"
  },
  "language_info": {
   "codemirror_mode": {
    "name": "ipython",
    "version": 3
   },
   "file_extension": ".py",
   "mimetype": "text/x-python",
   "name": "python",
   "nbconvert_exporter": "python",
   "pygments_lexer": "ipython3",
   "version": "3.6.5"
  }
 },
 "nbformat": 4,
 "nbformat_minor": 2
}
